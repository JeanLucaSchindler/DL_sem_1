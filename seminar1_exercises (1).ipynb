{
 "cells": [
  {
   "cell_type": "markdown",
   "metadata": {},
   "source": [
    "# MY475 Seminar 1: computation graphs and backpropagation by hand\n",
    "\n",
    "In this seminar, we are going to construct a simple perceptron model from scratch, following the computation graphs introduced in Lecture 2. We will:\n",
    "\n",
    "* Define a Value class to build a computation graph\n",
    "* Implement forward and backward passes\n",
    "* Train our model using gradient descent\n",
    "\n",
    "This tutorial is based on the amazing tutorial provided by Andrej Karpathy in his Neural Networks: Zero to Hero YouTube series. You can find the original video [here](https://www.youtube.com/watch?v=VMj-3S1tku0&list=PLAqhIrjkxbuWI23v9cThsA9GvCAUhRvKZ&index=1). The early part of today's exercises will mirror his implementation. We will diverge when implementing a model: I want to focus on re-implementing the simple perceptron model graphs we discussed in Lecture 2.\n",
    "\n",
    "Looking forward, in Seminar 2, we will pivot to using **pytorch** -- an industry standard library for constructing (deep) neural networks. While this library will allow us to abstract away from some of the particulars we cover today, it is worth noting that pytorch models are very object-oriented and so the key skills learned in this seminar will be directly transferable to the next."
   ]
  },
  {
   "cell_type": "markdown",
   "metadata": {},
   "source": [
    "## Exercises\n",
    "\n",
    "#### Defining the computation graph\n",
    "\n",
    "1. Using the code chunk below, define a **Value** class that has a *data* attribute. Redefine the \"magic method\" `__repr__` to return a string that includes that data value of the object.\n",
    "   \n",
    "2. In the same code chunk, add new magic methods for addition and multiplication. You can call the second argument whatever you wish: one option would be to use `other` (i.e. self + other). These methods should return **Value** objects with the sum and product of the data, respectively.\n",
    "\n",
    "*Great! We now have the very basics of a computation graph (at least, we have enough to go forwards!) Try it out. Construct a simple computation graph for the function $f(x) = 2x + 7$ -- you'll need to intialise $x$ with some value to see the calculation in action.*\n",
    "   \n",
    "3. In class, our value nodes also had a gradient attribute (let's call it `grad` here). Initialise the gradient of any new **Value** object to 0. \n",
    "\n",
    "4. When constructing computation graphs, recall that we calculate the gradient at any given Value node using the chain rule, and the known derivatives of the operations we perform. For any given operation on one (or two) Value nodes, when we backpropagate the gradient, we update the gradients of those nodes. Hence, whenever we create a new Value node as part of an operation, we need to define a function that allows us to backpropagate the gradient through that operation. We will call this method `_backward`. Amending your Value class:\n",
    "\n",
    "   * Add a default `_backward` method that does nothing to the class\n",
    "   * For both addition and multiplication magic methods, define a `_backward` function that updates the gradient of the input Values to that function. Set the `_backward` method of the output Value to this newly defined function (you want to set a method, not the result of calling that method).\n",
    "\n",
    "5. For the next step, it will be helpful to keep a track of which Value nodes are used to calculate a given Value node. Add a `_children` attribute to the Value class with a default value of an empty tuple. Then in both operation magic methods, when defining the new Value, initialise it with the Value nodes used in the operation.\n",
    "\n",
    "6. We are almost there! Each Value now records which other Value nodes (if any) determine its own data (the `_children`). But, there is no single map that charts how data flows through our graph as a whole. What we want to do is define a \"topological\" map of the graph. If you think about our visualisations of graphs, these are like trees where the output is our root, and the branches reflect the intermediary operations required to compute the final value, where the terminal (or leaf) nodes are the input data.\n",
    "\n",
    "   * When working with trees, it is quite common to use recursive methods to build or map the graph as a whole. In the final code chunk of this exercise sheet, I have provided you the skeleton code to build this map, using recursion. The `___` components reflect items you need to complete. As you work through this algorithm, try and iterate through a simple graph to work out what gets added where, and when!\n",
    "\n",
    "7. Now we can complete our implementation of backpropagation! Consider the final output node of the network. We start with the final node in the graph (which will have a gradient of 1), then iteratively move backwards through the connected nodes, propagating back the gradient. So, in case a Value node is the final one, we need to define a `backward()` method that a) builds the topological map of the graph, b) iterates through the nodes in reverse order, and c) backpropagates the gradient to that node's children:\n",
    "\n",
    "   * Define a `backward` method for the Value class, pasting in the code you completed in the previous step\n",
    "   * Build a map starting at the Value node (still inside the `backward` method)\n",
    "   * Set the gradient of the current Value node\n",
    "   * Use a for loop to iterate through the map in reverse order, calling the `_backward` method of each Value node \n",
    "\n",
    "\n",
    "#### Training a perceptron model (i.e. a single neuron)\n",
    "\n",
    "From the lecture, let's suppose the ground truth function of a neuron with weight $w$ and bias term $b$ is $y = f(x) = 2x + 0$. Let's build the computation graph:\n",
    "\n",
    "8. In the Data code chunk, define two Value objects, `x` and `y`, with values 1 and 2, respectively. Then define Value objects for `w` and `b` initialising both to 0. Finally, define the computation graph by creating nodes `a` (the product of `x` and `w`) and `y_pred` (the sum of `a` and `b`).\n",
    "\n",
    "9. This is the bit that I find magic! Calculating the loss merely means appending further calculations to the end of the graph. Frist calculate the `err` as the difference between `y_pred` and the ground truth `y`. Then calculate the final `loss` as the square of the error.\n",
    "\n",
    "   * Run this code chunk -- you should get an error! This is because we haven't overwritten the definitions of subtraction and raising a Value to a power. \n",
    "     \n",
    "     * Add the __sub__ method to your Value class. One way to do this is to completely redefine the subtraction method, which would require implementing a `_backward` routine. A geekier way 🤓 that avoids this tedium is to redefine `__neg__(self)` to return `-1*self` then define __sub__ to be the *addition* of self and the negative of your second Value. \n",
    "\n",
    "     * To redefine the power operator, we use the `__power__` magic method. Here you will need to define the `_backward` routine. (Hint: you can use the derivative cheatsheet from Lecture 1 and assume that we will only raise a Value to an integer/float).\n",
    "   \n",
    "   * Run the code chunk again. It should now work!\n",
    "\n",
    "10. Let's see backpropagation in action! Call the `backward()` method on the `loss` Value object. Then print the gradients of `w` and `b`.\n",
    "\n",
    "11. Now we can implement gradient descent! In the next code chunk:\n",
    "   \n",
    "   *  Define a learning rate of 0.1, and update the values of `w` and `b` using the gradient descent formula\n",
    "   *  Wrap this routine in a for loop that iterates 100 times\n",
    "   *  Print the values of `w` and `b` after executing the loop\n",
    "\n",
    "12. Finally, as in the lecture, let's introduce more data. Define a list `xs` that contains Values 1 and 3. Define a corresponding list `ys` of values that are twice the `x` values. Then, adapt your training loop to iterate over these two examples within *each* epoch, updating the weights and biases after each example. As before, your training loop should iterate 100 times. Inspect the new values of `w` and `b` after training."
   ]
  },
  {
   "cell_type": "markdown",
   "metadata": {},
   "source": [
    "### Value class"
   ]
  },
  {
   "cell_type": "code",
   "execution_count": 9,
   "metadata": {},
   "outputs": [],
   "source": [
    "class Value:\n",
    "    def __init__(self, data, _children=()):\n",
    "        self.data = data\n",
    "        self.grad = 0\n",
    "        self._backward = lambda: None\n",
    "        self._children = _children\n",
    "\n",
    "    # output format\n",
    "    def __repr__(self):\n",
    "        return f'Value:{self.data}, Gradient: {self.grad}, Children: {self._children}'\n",
    "\n",
    "    # operations\n",
    "    def __add__(self, other):\n",
    "        if not isinstance(other, Value):\n",
    "            other = Value(other)\n",
    "        out = Value(self.data + other.data, (self, other))\n",
    "\n",
    "        def _backward():\n",
    "            self.grad += out.grad * 1\n",
    "            other.grad += out.grad * 1\n",
    "\n",
    "        out._backward = _backward\n",
    "        return out\n",
    "\n",
    "    def __mul__(self, other):\n",
    "        if not isinstance(other, Value):\n",
    "            other = Value(other)\n",
    "        out = Value(self.data * other.data, (self, other))\n",
    "\n",
    "        def _backward():\n",
    "            self.grad += other.data * out.grad\n",
    "            other.grad += self.data * out.grad\n",
    "\n",
    "        out._backward = _backward\n",
    "\n",
    "        return out\n",
    "\n",
    "    def __neg__(self):\n",
    "        return self * -1\n",
    "\n",
    "    def __sub__(self, other):\n",
    "        return self + (-other)\n",
    "\n",
    "    def __pow__(self, other):\n",
    "        if not isinstance(other, Value):\n",
    "            other = Value(other)\n",
    "        out = Value(self.data ** other.data, (self, other))\n",
    "\n",
    "        def _backward():\n",
    "            self.grad += other.data * (self.data ** (other.data - 1)) * out.grad\n",
    "            other.grad += (self.data ** other.data) * out.grad\n",
    "\n",
    "        out._backward = _backward\n",
    "\n",
    "        return out\n",
    "\n",
    "    def __truediv__(self, other):\n",
    "        if not isinstance(other, Value):\n",
    "            other = Value(other)\n",
    "        out = Value(self.data / other.data, (self, other))\n",
    "\n",
    "        def _backward():\n",
    "            self.grad += (1 / other.data) * out.grad\n",
    "            other.grad += (-self.data / (other.data ** 2)) * out.grad\n",
    "\n",
    "        out._backward = _backward\n",
    "\n",
    "        return out\n",
    "\n",
    "    def abs (self):\n",
    "        return Value(abs(self.data), (self,))\n",
    "\n",
    "\n",
    "    # backpropagation\n",
    "    def backward(self):\n",
    "        visited = set()\n",
    "        graph_map = []\n",
    "\n",
    "        def build_graph(node):\n",
    "            if node not in visited:\n",
    "                visited.add(node)\n",
    "                for child in node._children:\n",
    "                    build_graph(child)\n",
    "                graph_map.append(node)\n",
    "\n",
    "        build_graph(self)\n",
    "\n",
    "        self.grad = 1\n",
    "        graph_map.reverse()\n",
    "        for node in graph_map:\n",
    "            node._backward()\n",
    "\n",
    "        return graph_map"
   ]
  },
  {
   "cell_type": "markdown",
   "metadata": {},
   "source": [
    "## Data, loss, and gradient descent"
   ]
  },
  {
   "cell_type": "markdown",
   "metadata": {},
   "source": [
    "### Data, computation, and backpropagation of a single example"
   ]
  },
  {
   "cell_type": "code",
   "execution_count": 10,
   "metadata": {},
   "outputs": [
    {
     "name": "stdout",
     "output_type": "stream",
     "text": [
      "0.9999999999999987 0.9999999999999987\n"
     ]
    }
   ],
   "source": [
    "w = Value(0)\n",
    "b = Value(0)\n",
    "\n",
    "for i in range(1000):\n",
    "    x = Value(1)\n",
    "    y = Value(2)\n",
    "\n",
    "    a = x * w\n",
    "    y_pred = a + b\n",
    "\n",
    "    err = y_pred - y\n",
    "    loss = err ** 2\n",
    "\n",
    "    w.grad = 0\n",
    "    b.grad = 0\n",
    "\n",
    "    loss.backward()\n",
    "    w.grad, b.grad\n",
    "\n",
    "    # update weights and bias using gradient descent formula\n",
    "    lr = 0.01\n",
    "    w.data -= lr * w.grad\n",
    "    b.data -= lr * b.grad\n",
    "\n",
    "print(w.data, b.data)"
   ]
  },
  {
   "cell_type": "markdown",
   "metadata": {},
   "source": [
    "### Stochastic gradient descent"
   ]
  },
  {
   "cell_type": "code",
   "execution_count": 11,
   "metadata": {},
   "outputs": [
    {
     "name": "stdout",
     "output_type": "stream",
     "text": [
      "1.9687639113930773 0.07072716507369836\n"
     ]
    }
   ],
   "source": [
    "import random\n",
    "\n",
    "w = Value(0)\n",
    "b = Value(0)\n",
    "\n",
    "for i in range(1000):\n",
    "\n",
    "    xs = random.randint(1,3)\n",
    "    x = Value(xs)\n",
    "    y = Value(2*xs)\n",
    "\n",
    "    a = x * w\n",
    "    y_pred = a + b\n",
    "\n",
    "    err = y_pred - y\n",
    "    loss = err ** 2\n",
    "\n",
    "    w.grad = 0\n",
    "    b.grad = 0\n",
    "\n",
    "    loss.backward()\n",
    "    w.grad, b.grad\n",
    "\n",
    "    # update weights and bias using gradient descent formula\n",
    "    lr = 0.01\n",
    "    w.data -= lr * w.grad\n",
    "    b.data -= lr * b.grad\n",
    "\n",
    "print(w.data, b.data)"
   ]
  },
  {
   "cell_type": "markdown",
   "metadata": {},
   "source": [
    "## Extension 1: altering the activation function\n",
    "\n",
    "In Lecture 2, although we used the identity function, we could have used any other activation function. Try implement a [ReLU activation function](https://en.wikipedia.org/wiki/Rectifier_(neural_networks)). You will need to know the derivative of the ReLU function to complete this exercise, in order to implement the corresponding `_backward` method. You will also need to amend the computation such that this activation is called prior to calculating the error."
   ]
  },
  {
   "cell_type": "code",
   "execution_count": 12,
   "metadata": {},
   "outputs": [
    {
     "name": "stdout",
     "output_type": "stream",
     "text": [
      "1.7062930258900773 0.6506436947887849\n"
     ]
    }
   ],
   "source": [
    "import random\n",
    "\n",
    "w = Value(0)\n",
    "b = Value(0)\n",
    "\n",
    "for i in range(1000):\n",
    "\n",
    "    xs = random.randint(1,3)\n",
    "    x = Value(xs)\n",
    "    y = Value(2*xs)\n",
    "\n",
    "    a = x * w\n",
    "    y_pred = a + b\n",
    "    pos = y_pred + y_pred.abs()\n",
    "    relu = pos / 2\n",
    "\n",
    "    err = relu - y\n",
    "    loss = err ** 2\n",
    "\n",
    "    w.grad = 0\n",
    "    b.grad = 0\n",
    "\n",
    "    loss.backward()\n",
    "    w.grad, b.grad\n",
    "\n",
    "    # update weights and bias using gradient descent formula\n",
    "    lr = 0.001\n",
    "    w.data -= lr * w.grad\n",
    "    b.data -= lr * b.grad\n",
    "\n",
    "print(w.data, b.data)"
   ]
  },
  {
   "cell_type": "markdown",
   "metadata": {},
   "source": [
    "## Extension 2: building a multi-layer perceptron\n",
    "\n",
    "We won't have time to cover multilayer perceptions in this seminar, and dong so depends on some of the terminology we will only cover in depth next week. For those who are interested, and want to extend their own implementation of neural networks, I would strongly recommend following on with Karpathy's tutorial. You can pick up his video at around 1:44:00 to see an implementation of a multilayer perceptron. \n",
    "\n",
    "There are two important differences between our implementation and Karpathy's if you try and continue with his implementation:\n",
    "\n",
    "1. We assume identity activation functions, whereas Karpathy uses a tanh activation function. This requires adding a new `tanh()` method to the Value class, as well as the corresponding backwards routine.\n",
    "2. We assume that all data is of Value class, but sometimes it might be helpful to be able to handle ints and floats directly. In the various operation magic methods, you can add a check to convert any second argument to a Value object if it is not already.\n"
   ]
  },
  {
   "cell_type": "code",
   "execution_count": null,
   "metadata": {},
   "outputs": [],
   "source": []
  }
 ],
 "metadata": {
  "kernelspec": {
   "display_name": "lewagon",
   "language": "python",
   "name": "python3"
  },
  "language_info": {
   "codemirror_mode": {
    "name": "ipython",
    "version": 3
   },
   "file_extension": ".py",
   "mimetype": "text/x-python",
   "name": "python",
   "nbconvert_exporter": "python",
   "pygments_lexer": "ipython3",
   "version": "3.10.6"
  }
 },
 "nbformat": 4,
 "nbformat_minor": 2
}
